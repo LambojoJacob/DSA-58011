{
  "nbformat": 4,
  "nbformat_minor": 0,
  "metadata": {
    "colab": {
      "name": "Untitled5.ipynb",
      "provenance": [],
      "authorship_tag": "ABX9TyPLktfgoxTPr1awZIrubHas",
      "include_colab_link": true
    },
    "kernelspec": {
      "name": "python3",
      "display_name": "Python 3"
    },
    "language_info": {
      "name": "python"
    }
  },
  "cells": [
    {
      "cell_type": "markdown",
      "metadata": {
        "id": "view-in-github",
        "colab_type": "text"
      },
      "source": [
        "<a href=\"https://colab.research.google.com/github/Nachtttt/DSA-58011/blob/main/AreaOfACircle.ipynb\" target=\"_parent\"><img src=\"https://colab.research.google.com/assets/colab-badge.svg\" alt=\"Open In Colab\"/></a>"
      ]
    },
    {
      "cell_type": "code",
      "execution_count": null,
      "metadata": {
        "colab": {
          "base_uri": "https://localhost:8080/"
        },
        "id": "STFR6RklH_8g",
        "outputId": "5269f74d-1d79-493e-de53-46d1c58bd4c8"
      },
      "outputs": [
        {
          "output_type": "stream",
          "name": "stdout",
          "text": [
            "Area of cirlce: 530.66\n"
          ]
        }
      ],
      "source": [
        "class Circle:\n",
        "  def __init__(self, r):\n",
        "    self.radius = r\n",
        "  def area(self):\n",
        "      return 3.14 * (self.radius ** 2)\n",
        "obj = Circle(13)\n",
        "print(\"Area of cirlce:\",obj.area())\n"
      ]
    }
  ]
}
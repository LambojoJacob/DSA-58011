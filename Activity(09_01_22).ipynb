{
  "nbformat": 4,
  "nbformat_minor": 0,
  "metadata": {
    "colab": {
      "provenance": [],
      "authorship_tag": "ABX9TyM0u8ilaVqiM1ErMit7BODH",
      "include_colab_link": true
    },
    "kernelspec": {
      "name": "python3",
      "display_name": "Python 3"
    },
    "language_info": {
      "name": "python"
    }
  },
  "cells": [
    {
      "cell_type": "markdown",
      "metadata": {
        "id": "view-in-github",
        "colab_type": "text"
      },
      "source": [
        "<a href=\"https://colab.research.google.com/github/Nachtttt/DSA-58011/blob/main/Activity(09_01_22).ipynb\" target=\"_parent\"><img src=\"https://colab.research.google.com/assets/colab-badge.svg\" alt=\"Open In Colab\"/></a>"
      ]
    },
    {
      "cell_type": "markdown",
      "source": [
        "1.) **Write a Python program to create an array of 10 integers and display the array items. Access individual elements through indexes and compute for the sum.**"
      ],
      "metadata": {
        "id": "aDdzeEx8VsHh"
      }
    },
    {
      "cell_type": "code",
      "execution_count": 3,
      "metadata": {
        "colab": {
          "base_uri": "https://localhost:8080/"
        },
        "id": "lplIRSV8T3el",
        "outputId": "97868e08-f9ea-464e-ba07-9f1ab2881030"
      },
      "outputs": [
        {
          "output_type": "stream",
          "name": "stdout",
          "text": [
            "1st Element:  1\n",
            "2nd Element:  2\n",
            "3rd Element:  3\n",
            "4th Element:  4\n",
            "5th Element:  5\n",
            "6th Element:  6\n",
            "7th Element:  7\n",
            "8th Element:  8\n",
            "9th Element:  9\n",
            "10th Element:  0\n",
            "Sum of the array is:  45\n"
          ]
        }
      ],
      "source": [
        "import array as arr\n",
        "a = arr.array('i', [1, 2, 3, 4, 5, 6, 7, 8, 9, 0])\n",
        "\n",
        "print(\"1st Element: \", a[0])\n",
        "print(\"2nd Element: \", a[1])\n",
        "print(\"3rd Element: \", a[2])\n",
        "print(\"4th Element: \", a[3])\n",
        "print(\"5th Element: \", a[4])\n",
        "print(\"6th Element: \", a[5])\n",
        "print(\"7th Element: \", a[6])\n",
        "print(\"8th Element: \", a[7])\n",
        "print(\"9th Element: \", a[8])\n",
        "print(\"10th Element: \", a [9])\n",
        "\n",
        "def _sum(arr):\n",
        "  sum = 0\n",
        "  for i in arr:\n",
        "      sum = sum + i \n",
        "  return(sum)\n",
        "\n",
        "arr = []\n",
        "arr = [1, 2, 3, 4, 5, 6, 7, 8, 9, 0]\n",
        "n = len(arr)\n",
        "ans = _sum(arr)\n",
        "print('Sum of the array is: ', ans)"
      ]
    },
    {
      "cell_type": "markdown",
      "source": [
        "**2.) Write a Python program to append a new item to the end of the array. Original array: numbers = [1, 2, 3, 4, 5, 6, 7, 8, 9, 10]**"
      ],
      "metadata": {
        "id": "Adl2HNWwVrhb"
      }
    },
    {
      "cell_type": "code",
      "source": [
        "import array as arr\n",
        "a = arr.array('i', [1, 2, 3, 4, 5, 6, 7, 8, 9, 10])\n",
        "\n",
        "print (\"Array before insertion: \", end =\" \")\n",
        "for i in range (0, 10):\n",
        "    print (a[i], end =\" \")\n",
        "print()\n",
        "\n",
        "a.insert(10, 11)\n",
        "\n",
        "print (\"Array after insertion :\", end =\" \")\n",
        "for i in (a):\n",
        "    print (i, end =\" \")\n",
        "print()"
      ],
      "metadata": {
        "colab": {
          "base_uri": "https://localhost:8080/"
        },
        "id": "QkKylMWPWpxh",
        "outputId": "53fcf002-7df3-4623-94f0-a3c5b7f871af"
      },
      "execution_count": 5,
      "outputs": [
        {
          "output_type": "stream",
          "name": "stdout",
          "text": [
            "Array before insertion:  1 2 3 4 5 6 7 8 9 10 \n",
            "Array after insertion : 1 2 3 4 5 6 7 8 9 10 11 \n"
          ]
        }
      ]
    },
    {
      "cell_type": "markdown",
      "source": [
        "**3.) Write a Python program to insert a new item before the second element in an existing array. Original array: numbers = [1, 2, 3, 4, 5, 6, 7, 8, 9, 10]**\n"
      ],
      "metadata": {
        "id": "zrnhiOPiYr9T"
      }
    },
    {
      "cell_type": "code",
      "source": [
        "import array as arr\n",
        "a = arr.array('i', [1, 2, 3, 4, 5, 6, 7, 8, 9, 10])\n",
        "\n",
        "print (\"Array before insertion: \", end =\" \")\n",
        "for i in range (0, 10):\n",
        "    print (a[i], end =\" \")\n",
        "print()\n",
        "\n",
        "a.insert(1, 11)\n",
        "\n",
        "print (\"Array after insertion :\", end =\" \")\n",
        "for i in (a):\n",
        "    print (i, end =\" \")\n",
        "print()"
      ],
      "metadata": {
        "colab": {
          "base_uri": "https://localhost:8080/"
        },
        "id": "uX5jMVTgY-o5",
        "outputId": "4446951c-d1d9-4333-854d-150cdd90618e"
      },
      "execution_count": 7,
      "outputs": [
        {
          "output_type": "stream",
          "name": "stdout",
          "text": [
            "Array before insertion:  1 2 3 4 5 6 7 8 9 10 \n",
            "Array after insertion : 1 11 2 3 4 5 6 7 8 9 10 \n"
          ]
        }
      ]
    },
    {
      "cell_type": "markdown",
      "source": [
        "**4.) Write a Python program to reverse the order of the items in the array.Original array: numbers = [5, 4, 3, 2, 1]**"
      ],
      "metadata": {
        "id": "7C-qYd4SZVjT"
      }
    },
    {
      "cell_type": "code",
      "source": [
        "arr = [1, 2, 3, 4, 5]\n",
        "print(\"Original Array :\",arr)\n",
        "\n",
        "res = arr[::-1]\n",
        "print(\"Reverse Array\",res)"
      ],
      "metadata": {
        "colab": {
          "base_uri": "https://localhost:8080/"
        },
        "id": "lnV1P9yeZZW5",
        "outputId": "d4e95f53-503f-47a4-d7c3-e0d81ed1c77a"
      },
      "execution_count": 8,
      "outputs": [
        {
          "output_type": "stream",
          "name": "stdout",
          "text": [
            "Original Array : [1, 2, 3, 4, 5]\n",
            "Reverse Array [5, 4, 3, 2, 1]\n"
          ]
        }
      ]
    },
    {
      "cell_type": "code",
      "source": [],
      "metadata": {
        "id": "H3JMKEo2aHeO"
      },
      "execution_count": null,
      "outputs": []
    },
    {
      "cell_type": "markdown",
      "source": [
        "**5.) Write a Python program to get the length of the array. Original array: numbers = [5, 4, 3, 2, 1]**"
      ],
      "metadata": {
        "id": "l7V-fJtjaDjz"
      }
    },
    {
      "cell_type": "code",
      "source": [
        "from operator import length_hint\n",
        "inp_lst = [5,4,3,2,1]\n",
        "print(\"Length of the array:\")\n",
        "size = length_hint(inp_lst)\n",
        "print(size)"
      ],
      "metadata": {
        "colab": {
          "base_uri": "https://localhost:8080/"
        },
        "id": "-m6kNGn0aH7H",
        "outputId": "de4f0b03-7ed8-4723-a0c2-59222e61c094"
      },
      "execution_count": 11,
      "outputs": [
        {
          "output_type": "stream",
          "name": "stdout",
          "text": [
            "Length of the array:\n",
            "5\n"
          ]
        }
      ]
    }
  ]
}
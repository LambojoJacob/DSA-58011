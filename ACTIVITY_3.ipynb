{
  "nbformat": 4,
  "nbformat_minor": 0,
  "metadata": {
    "colab": {
      "provenance": [],
      "authorship_tag": "ABX9TyPuufpeAW/1leE6fyWTa5L6",
      "include_colab_link": true
    },
    "kernelspec": {
      "name": "python3",
      "display_name": "Python 3"
    },
    "language_info": {
      "name": "python"
    }
  },
  "cells": [
    {
      "cell_type": "markdown",
      "metadata": {
        "id": "view-in-github",
        "colab_type": "text"
      },
      "source": [
        "<a href=\"https://colab.research.google.com/github/Nachtttt/DSA-58011/blob/main/ACTIVITY_3.ipynb\" target=\"_parent\"><img src=\"https://colab.research.google.com/assets/colab-badge.svg\" alt=\"Open In Colab\"/></a>"
      ]
    },
    {
      "cell_type": "markdown",
      "source": [
        "ORIGINAL **CODE**"
      ],
      "metadata": {
        "id": "Rw98OP2ZF6z-"
      }
    },
    {
      "cell_type": "code",
      "execution_count": null,
      "metadata": {
        "id": "QCI0DV3KFwFk"
      },
      "outputs": [],
      "source": [
        "def create_stack():\n",
        "    stack = []\n",
        "    return stack\n",
        "\n",
        "def is_empty(stack):\n",
        "    return len(stack) == 0\n",
        "\n",
        "def push(stack, item):\n",
        "    stack.append(item)\n",
        "    print(\"Pushed Element: \" + item)\n",
        "\n",
        "def pop(stack):\n",
        "    if (is_empty(stack)):\n",
        "        return \"The stack is empty\"\n",
        "    return stack.pop()\n",
        "\n",
        "stack = create_stack()\n",
        "push(stack, str(1))\n",
        "push(stack, str(2))\n",
        "push(stack, str(3))\n",
        "push(stack, str(4))\n",
        "push(stack, str(5))\n",
        "\n",
        "print(\"The elements in the stack are:\"+ str(stack))"
      ]
    },
    {
      "cell_type": "markdown",
      "source": [
        "**POP THREE ELEMENTS FROM THE TOP OF THE STACK**"
      ],
      "metadata": {
        "id": "cCduqM6dF7e1"
      }
    },
    {
      "cell_type": "code",
      "source": [
        "def create_stack():\n",
        "    stack = []\n",
        "    return stack\n",
        "\n",
        "def is_empty(stack):\n",
        "    return len(stack) == 0\n",
        "\n",
        "def push(stack, item):\n",
        "    stack.append(item)\n",
        "    print(\"Pushed Element: \" + item)\n",
        "\n",
        "def pop(stack):\n",
        "    if (is_empty(stack)):\n",
        "        return \"The stack is empty\"\n",
        "    return stack.pop()\n",
        "\n",
        "stack = create_stack()\n",
        "push(stack, str(1))\n",
        "push(stack, str(2))\n",
        "push(stack, str(3))\n",
        "push(stack, str(4))\n",
        "push(stack, str(5))\n",
        "\n",
        "print(\"The elements in the stack are:\"+ str(stack))\n",
        "\n",
        "print(\"The elements popped from the stack:\", stack.pop(), stack.pop(), stack.pop())\n",
        "\n",
        "print(\"The elements left in the stack are:\", stack)"
      ],
      "metadata": {
        "id": "fHcNItPZF7tT"
      },
      "execution_count": null,
      "outputs": []
    },
    {
      "cell_type": "markdown",
      "source": [
        "** LENGTH OF THE STACK**"
      ],
      "metadata": {
        "id": "a4SaHqzxF-yi"
      }
    },
    {
      "cell_type": "code",
      "source": [
        "def create_stack():\n",
        "  stack = []\n",
        "  return stack\n",
        "\n",
        "def is_empty(stack):\n",
        "  return len(stack) == 0\n",
        "\n",
        "def push(stack,item):\n",
        "  stack.append(item)\n",
        "  print(\"Pushed Element: \"+ item)\n",
        "\n",
        "def pop(stack):\n",
        "  if (is_empty(stack)):\n",
        "    return\"The stack is empty\"\n",
        "  return stack.pop()\n",
        "\n",
        "stack = create_stack()\n",
        "push(stack, str(1))\n",
        "push(stack, str(2))\n",
        "push(stack, str(3))\n",
        "push(stack, str(4))\n",
        "push(stack, str(5))\n",
        "\n",
        "\n",
        "print(\"The elements in the stack are: \"+str(stack))\n",
        "\n",
        "print(\"Length of the Stack: \", len(stack))"
      ],
      "metadata": {
        "id": "4-1FohKtF_A1"
      },
      "execution_count": null,
      "outputs": []
    }
  ]
}